{
 "cells": [
  {
   "cell_type": "code",
   "execution_count": 1,
   "id": "a8ff66e1",
   "metadata": {},
   "outputs": [],
   "source": [
    "text = \"The phone number of the agent is 408-555-1234. Call soon!\""
   ]
  },
  {
   "cell_type": "code",
   "execution_count": 2,
   "id": "83bf48e3",
   "metadata": {},
   "outputs": [
    {
     "data": {
      "text/plain": [
       "True"
      ]
     },
     "execution_count": 2,
     "metadata": {},
     "output_type": "execute_result"
    }
   ],
   "source": [
    "\"phone\" in text"
   ]
  },
  {
   "cell_type": "code",
   "execution_count": 3,
   "id": "dd359d56",
   "metadata": {},
   "outputs": [],
   "source": [
    "import re"
   ]
  },
  {
   "cell_type": "code",
   "execution_count": 4,
   "id": "bc7b5004",
   "metadata": {},
   "outputs": [],
   "source": [
    "pattern = \"phone\""
   ]
  },
  {
   "cell_type": "code",
   "execution_count": 11,
   "id": "05478443",
   "metadata": {},
   "outputs": [
    {
     "data": {
      "text/plain": [
       "<re.Match object; span=(4, 9), match='phone'>"
      ]
     },
     "execution_count": 11,
     "metadata": {},
     "output_type": "execute_result"
    }
   ],
   "source": [
    "#takes pattern and text as parameters..and finds the first match\n",
    "re.search(pattern,text)"
   ]
  },
  {
   "cell_type": "code",
   "execution_count": 12,
   "id": "3300acd2",
   "metadata": {},
   "outputs": [],
   "source": [
    "my_match = re.search(pattern,text)"
   ]
  },
  {
   "cell_type": "code",
   "execution_count": 13,
   "id": "da4405b4",
   "metadata": {},
   "outputs": [
    {
     "data": {
      "text/plain": [
       "(4, 9)"
      ]
     },
     "execution_count": 13,
     "metadata": {},
     "output_type": "execute_result"
    }
   ],
   "source": [
    "my_match.span()"
   ]
  },
  {
   "cell_type": "code",
   "execution_count": 14,
   "id": "71367c02",
   "metadata": {},
   "outputs": [
    {
     "data": {
      "text/plain": [
       "4"
      ]
     },
     "execution_count": 14,
     "metadata": {},
     "output_type": "execute_result"
    }
   ],
   "source": [
    "my_match.start()"
   ]
  },
  {
   "cell_type": "code",
   "execution_count": 15,
   "id": "430244a0",
   "metadata": {},
   "outputs": [
    {
     "data": {
      "text/plain": [
       "9"
      ]
     },
     "execution_count": 15,
     "metadata": {},
     "output_type": "execute_result"
    }
   ],
   "source": [
    "my_match.end()"
   ]
  },
  {
   "cell_type": "code",
   "execution_count": 20,
   "id": "2786ba9e",
   "metadata": {},
   "outputs": [
    {
     "data": {
      "text/plain": [
       "(3, 8)"
      ]
     },
     "execution_count": 20,
     "metadata": {},
     "output_type": "execute_result"
    }
   ],
   "source": [
    "text = \"my phone is a new phone\"\n",
    "match = re.search(pattern,text)\n",
    "match.span() #it will find the first instance of the match"
   ]
  },
  {
   "cell_type": "code",
   "execution_count": 22,
   "id": "e03a8a04",
   "metadata": {},
   "outputs": [
    {
     "data": {
      "text/plain": [
       "2"
      ]
     },
     "execution_count": 22,
     "metadata": {},
     "output_type": "execute_result"
    }
   ],
   "source": [
    "#if we want to get all the instances we will have to use re.findall\n",
    "all_matches = re.findall(\"phone\",text)\n",
    "len(all_matches)"
   ]
  },
  {
   "cell_type": "code",
   "execution_count": 24,
   "id": "e0f0c8ca",
   "metadata": {},
   "outputs": [
    {
     "name": "stdout",
     "output_type": "stream",
     "text": [
      "(3, 8)\n",
      "(18, 23)\n"
     ]
    }
   ],
   "source": [
    "#now if we want to get all the spans of the match. we have to use finditer\n",
    "for match in re.finditer(\"phone\",text):\n",
    "    print(match.span())"
   ]
  },
  {
   "cell_type": "code",
   "execution_count": 33,
   "id": "ad5f641d",
   "metadata": {},
   "outputs": [],
   "source": [
    "text = \"my telephone number is 888-555-1234\""
   ]
  },
  {
   "cell_type": "code",
   "execution_count": 34,
   "id": "a731f795",
   "metadata": {},
   "outputs": [
    {
     "data": {
      "text/plain": [
       "'my telephone number is 888-555-1234'"
      ]
     },
     "execution_count": 34,
     "metadata": {},
     "output_type": "execute_result"
    }
   ],
   "source": [
    "text"
   ]
  },
  {
   "cell_type": "code",
   "execution_count": 38,
   "id": "9c2cc2c2",
   "metadata": {},
   "outputs": [],
   "source": [
    "#special character designation\n",
    "pattern = r'\\d\\d\\d-\\d\\d\\d-\\d\\d\\d\\d'"
   ]
  },
  {
   "cell_type": "code",
   "execution_count": 39,
   "id": "0ab57895",
   "metadata": {},
   "outputs": [],
   "source": [
    "phone_number = re.search(pattern,text)"
   ]
  },
  {
   "cell_type": "code",
   "execution_count": 40,
   "id": "5b4f5a67",
   "metadata": {},
   "outputs": [
    {
     "data": {
      "text/plain": [
       "'888-555-1234'"
      ]
     },
     "execution_count": 40,
     "metadata": {},
     "output_type": "execute_result"
    }
   ],
   "source": [
    "#to get the actual match.. use .group()\n",
    "phone_number.group()"
   ]
  },
  {
   "cell_type": "code",
   "execution_count": 49,
   "id": "04fb713f",
   "metadata": {},
   "outputs": [],
   "source": [
    "#quantifiers\n",
    "pattern = r\"\\d{3}-\\d{3}-\\d{4}\""
   ]
  },
  {
   "cell_type": "code",
   "execution_count": 50,
   "id": "720b47c3",
   "metadata": {},
   "outputs": [],
   "source": [
    "my_match = re.search(pattern,text)"
   ]
  },
  {
   "cell_type": "code",
   "execution_count": 52,
   "id": "72c8d4eb",
   "metadata": {},
   "outputs": [
    {
     "data": {
      "text/plain": [
       "'888-555-1234'"
      ]
     },
     "execution_count": 52,
     "metadata": {},
     "output_type": "execute_result"
    }
   ],
   "source": [
    "my_match.group()"
   ]
  },
  {
   "cell_type": "code",
   "execution_count": 64,
   "id": "0ee6c5bf",
   "metadata": {},
   "outputs": [],
   "source": [
    "#we can call indexes on these group using parenthesis\n",
    "pattern = r\"(\\d{3})-(\\d{3})-(\\d{4})\""
   ]
  },
  {
   "cell_type": "code",
   "execution_count": 65,
   "id": "84cb448e",
   "metadata": {},
   "outputs": [],
   "source": [
    "match = re.search(pattern,text)"
   ]
  },
  {
   "cell_type": "code",
   "execution_count": 66,
   "id": "7843c115",
   "metadata": {},
   "outputs": [
    {
     "data": {
      "text/plain": [
       "'555'"
      ]
     },
     "execution_count": 66,
     "metadata": {},
     "output_type": "execute_result"
    }
   ],
   "source": [
    "match.group(2)"
   ]
  },
  {
   "cell_type": "code",
   "execution_count": 69,
   "id": "623d3f3b",
   "metadata": {},
   "outputs": [
    {
     "data": {
      "text/plain": [
       "<re.Match object; span=(5, 10), match='woman'>"
      ]
     },
     "execution_count": 69,
     "metadata": {},
     "output_type": "execute_result"
    }
   ],
   "source": [
    "#pipe(or) operator\n",
    "re.search(r\"man|woman\",\"This woman was here\")"
   ]
  },
  {
   "cell_type": "code",
   "execution_count": 74,
   "id": "6ed163ca",
   "metadata": {},
   "outputs": [
    {
     "data": {
      "text/plain": [
       "['cat', 'hat', 'sat', ' at', 'mat', 'wat']"
      ]
     },
     "execution_count": 74,
     "metadata": {},
     "output_type": "execute_result"
    }
   ],
   "source": [
    "#wildcard operator\n",
    "re.findall(r\".at\",\"The cat in the hat sat at the mat gadwat\")"
   ]
  },
  {
   "cell_type": "code",
   "execution_count": 75,
   "id": "ec2b882f",
   "metadata": {},
   "outputs": [],
   "source": [
    "# ^ means starts with\n",
    "# $ means ends with"
   ]
  },
  {
   "cell_type": "code",
   "execution_count": 77,
   "id": "6b42497c",
   "metadata": {},
   "outputs": [
    {
     "data": {
      "text/plain": [
       "['1']"
      ]
     },
     "execution_count": 77,
     "metadata": {},
     "output_type": "execute_result"
    }
   ],
   "source": [
    "re.findall(r\"^\\d\",\"1 is the lonliest number\")"
   ]
  },
  {
   "cell_type": "code",
   "execution_count": 82,
   "id": "dd583e0c",
   "metadata": {},
   "outputs": [],
   "source": [
    "phrase = \"There are 3 numbers 34 inside 5 this sentence\""
   ]
  },
  {
   "cell_type": "code",
   "execution_count": 83,
   "id": "a0b03ac0",
   "metadata": {},
   "outputs": [
    {
     "data": {
      "text/plain": [
       "['3', '3', '4', '5']"
      ]
     },
     "execution_count": 83,
     "metadata": {},
     "output_type": "execute_result"
    }
   ],
   "source": [
    "# [^] means to exclude anything thats inside of it..\n",
    "# [] means to include anything thats inside of it..\n",
    "re.findall(r\"[\\d]\",phrase)"
   ]
  },
  {
   "cell_type": "code",
   "execution_count": 84,
   "id": "b37c54b6",
   "metadata": {},
   "outputs": [
    {
     "data": {
      "text/plain": [
       "['T',\n",
       " 'h',\n",
       " 'e',\n",
       " 'r',\n",
       " 'e',\n",
       " ' ',\n",
       " 'a',\n",
       " 'r',\n",
       " 'e',\n",
       " ' ',\n",
       " ' ',\n",
       " 'n',\n",
       " 'u',\n",
       " 'm',\n",
       " 'b',\n",
       " 'e',\n",
       " 'r',\n",
       " 's',\n",
       " ' ',\n",
       " ' ',\n",
       " 'i',\n",
       " 'n',\n",
       " 's',\n",
       " 'i',\n",
       " 'd',\n",
       " 'e',\n",
       " ' ',\n",
       " ' ',\n",
       " 't',\n",
       " 'h',\n",
       " 'i',\n",
       " 's',\n",
       " ' ',\n",
       " 's',\n",
       " 'e',\n",
       " 'n',\n",
       " 't',\n",
       " 'e',\n",
       " 'n',\n",
       " 'c',\n",
       " 'e']"
      ]
     },
     "execution_count": 84,
     "metadata": {},
     "output_type": "execute_result"
    }
   ],
   "source": [
    "re.findall(r\"[^\\d]\",phrase)"
   ]
  },
  {
   "cell_type": "code",
   "execution_count": 90,
   "id": "d39e1b98",
   "metadata": {},
   "outputs": [
    {
     "data": {
      "text/plain": [
       "['There are ', ' numbers ', ' inside ', ' this sentence']"
      ]
     },
     "execution_count": 90,
     "metadata": {},
     "output_type": "execute_result"
    }
   ],
   "source": [
    "re.findall(r\"[^\\d]+\",phrase)"
   ]
  },
  {
   "cell_type": "code",
   "execution_count": 91,
   "id": "d5c9fe80",
   "metadata": {},
   "outputs": [],
   "source": [
    "test_phrase = \"This is a string! But this has punctuations. How to remove it??\""
   ]
  },
  {
   "cell_type": "code",
   "execution_count": 95,
   "id": "1714201b",
   "metadata": {},
   "outputs": [],
   "source": [
    "my_list = re.findall(r\"[^!.? ]+\",test_phrase)"
   ]
  },
  {
   "cell_type": "code",
   "execution_count": 96,
   "id": "ad56f275",
   "metadata": {},
   "outputs": [
    {
     "data": {
      "text/plain": [
       "'This is a string But this has punctuations How to remove it'"
      ]
     },
     "execution_count": 96,
     "metadata": {},
     "output_type": "execute_result"
    }
   ],
   "source": [
    "' '.join(my_list)"
   ]
  },
  {
   "cell_type": "code",
   "execution_count": 97,
   "id": "a91e5a36",
   "metadata": {},
   "outputs": [],
   "source": [
    "text = \"Only find the hyphen-words. Where are the long-ish dash words?\""
   ]
  },
  {
   "cell_type": "code",
   "execution_count": 98,
   "id": "558a66f1",
   "metadata": {},
   "outputs": [
    {
     "data": {
      "text/plain": [
       "['hyphen-words', 'long-ish']"
      ]
     },
     "execution_count": 98,
     "metadata": {},
     "output_type": "execute_result"
    }
   ],
   "source": [
    "re.findall(r\"[\\w]+-[\\w]+\",text)"
   ]
  },
  {
   "cell_type": "code",
   "execution_count": null,
   "id": "ac1abe48",
   "metadata": {},
   "outputs": [],
   "source": []
  }
 ],
 "metadata": {
  "kernelspec": {
   "display_name": "Python 3 (ipykernel)",
   "language": "python",
   "name": "python3"
  },
  "language_info": {
   "codemirror_mode": {
    "name": "ipython",
    "version": 3
   },
   "file_extension": ".py",
   "mimetype": "text/x-python",
   "name": "python",
   "nbconvert_exporter": "python",
   "pygments_lexer": "ipython3",
   "version": "3.7.16"
  }
 },
 "nbformat": 4,
 "nbformat_minor": 5
}
