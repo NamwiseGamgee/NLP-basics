{
 "cells": [
  {
   "cell_type": "code",
   "execution_count": 2,
   "id": "56e5f823",
   "metadata": {},
   "outputs": [
    {
     "name": "stdout",
     "output_type": "stream",
     "text": [
      "Collecting nltk\n",
      "  Downloading https://files.pythonhosted.org/packages/a6/0a/0d20d2c0f16be91b9fa32a77b76c60f9baf6eba419e5ef5deca17af9c582/nltk-3.8.1-py3-none-any.whl (1.5MB)\n",
      "Collecting joblib (from nltk)\n",
      "  Downloading https://files.pythonhosted.org/packages/10/40/d551139c85db202f1f384ba8bcf96aca2f329440a844f924c8a0040b6d02/joblib-1.3.2-py3-none-any.whl (302kB)\n",
      "Requirement already satisfied, skipping upgrade: tqdm in c:\\users\\nobin\\anaconda3\\envs\\nlp_course\\lib\\site-packages (from nltk) (4.64.1)\n",
      "Requirement already satisfied, skipping upgrade: regex>=2021.8.3 in c:\\users\\nobin\\anaconda3\\envs\\nlp_course\\lib\\site-packages (from nltk) (2022.7.9)\n",
      "Collecting click (from nltk)\n",
      "  Downloading https://files.pythonhosted.org/packages/00/2e/d53fa4befbf2cfa713304affc7ca780ce4fc1fd8710527771b58311a3229/click-8.1.7-py3-none-any.whl (97kB)\n",
      "Requirement already satisfied, skipping upgrade: colorama; platform_system == \"Windows\" in c:\\users\\nobin\\anaconda3\\envs\\nlp_course\\lib\\site-packages (from tqdm->nltk) (0.4.6)\n",
      "Requirement already satisfied, skipping upgrade: importlib-metadata; python_version < \"3.8\" in c:\\users\\nobin\\anaconda3\\envs\\nlp_course\\lib\\site-packages (from click->nltk) (4.11.3)\n",
      "Requirement already satisfied, skipping upgrade: typing-extensions>=3.6.4; python_version < \"3.8\" in c:\\users\\nobin\\anaconda3\\envs\\nlp_course\\lib\\site-packages (from importlib-metadata; python_version < \"3.8\"->click->nltk) (4.4.0)\n",
      "Requirement already satisfied, skipping upgrade: zipp>=0.5 in c:\\users\\nobin\\anaconda3\\envs\\nlp_course\\lib\\site-packages (from importlib-metadata; python_version < \"3.8\"->click->nltk) (3.11.0)\n",
      "Installing collected packages: joblib, click, nltk\n",
      "  Found existing installation: nltk 3.3\n",
      "    Uninstalling nltk-3.3:\n",
      "      Successfully uninstalled nltk-3.3\n",
      "Successfully installed click-8.1.7 joblib-1.3.2 nltk-3.8.1\n"
     ]
    }
   ],
   "source": [
    "!pip install --upgrade nltk"
   ]
  },
  {
   "cell_type": "code",
   "execution_count": 3,
   "id": "c3dac7bd",
   "metadata": {},
   "outputs": [
    {
     "name": "stdout",
     "output_type": "stream",
     "text": [
      "Collecting scipy\n",
      "  Downloading https://files.pythonhosted.org/packages/40/69/4af412d078cef2298f7d90546fa0e03e65a032558bd85319239c72ae0c3c/scipy-1.7.3-cp37-cp37m-win_amd64.whl (34.1MB)\n",
      "Collecting numpy<1.23.0,>=1.16.5 (from scipy)\n",
      "  Downloading https://files.pythonhosted.org/packages/97/9f/da37cc4a188a1d5d203d65ab28d6504e17594b5342e0c1dc5610ee6f4535/numpy-1.21.6-cp37-cp37m-win_amd64.whl (14.0MB)\n",
      "Installing collected packages: numpy, scipy\n",
      "  Found existing installation: numpy 1.15.4\n",
      "    Uninstalling numpy-1.15.4:\n",
      "      Successfully uninstalled numpy-1.15.4\n"
     ]
    },
    {
     "name": "stderr",
     "output_type": "stream",
     "text": [
      "mkl-random 1.0.1 requires cython, which is not installed.\n",
      "thinc 6.12.1 has requirement msgpack<0.6.0,>=0.5.6, but you'll have msgpack 0.6.1 which is incompatible.\n",
      "spacy 2.0.16 has requirement regex==2018.01.10, but you'll have regex 2022.7.9 which is incompatible.\n",
      "Could not install packages due to an EnvironmentError: [WinError 5] Access is denied: 'C:\\\\Users\\\\Nobin\\\\AppData\\\\Local\\\\Temp\\\\pip-uninstall-tftslnku\\\\users\\\\nobin\\\\anaconda3\\\\envs\\\\nlp_course\\\\lib\\\\site-packages\\\\numpy\\\\core\\\\multiarray.cp37-win_amd64.pyd'\n",
      "Consider using the `--user` option or check the permissions.\n",
      "\n"
     ]
    }
   ],
   "source": [
    "!pip install --upgrade scipy\n"
   ]
  },
  {
   "cell_type": "code",
   "execution_count": 4,
   "id": "1f6268f4",
   "metadata": {},
   "outputs": [],
   "source": [
    "import nltk"
   ]
  },
  {
   "cell_type": "code",
   "execution_count": 5,
   "id": "47d1ca78",
   "metadata": {},
   "outputs": [],
   "source": [
    "from nltk.stem.porter import PorterStemmer\n",
    "p_stemmer = PorterStemmer()"
   ]
  },
  {
   "cell_type": "code",
   "execution_count": 13,
   "id": "48a8eaee",
   "metadata": {},
   "outputs": [],
   "source": [
    "words = ['run','runner','ran','runs','easily','fairly','fairness']"
   ]
  },
  {
   "cell_type": "code",
   "execution_count": 14,
   "id": "adf68ea7",
   "metadata": {},
   "outputs": [
    {
     "name": "stdout",
     "output_type": "stream",
     "text": [
      "run------->run\n",
      "runner------->runner\n",
      "ran------->ran\n",
      "runs------->run\n",
      "easily------->easili\n",
      "fairly------->fairli\n",
      "fairness------->fair\n"
     ]
    }
   ],
   "source": [
    "for word in words:\n",
    "    print(word + '------->' + p_stemmer.stem(word))"
   ]
  },
  {
   "cell_type": "code",
   "execution_count": 15,
   "id": "0dc9307f",
   "metadata": {},
   "outputs": [],
   "source": [
    "#the snowball stemmer is better than the PorterStemmer\n",
    "from nltk.stem.snowball import SnowballStemmer"
   ]
  },
  {
   "cell_type": "code",
   "execution_count": 16,
   "id": "247a8d26",
   "metadata": {},
   "outputs": [],
   "source": [
    "s_stemmer = SnowballStemmer(language='english')"
   ]
  },
  {
   "cell_type": "code",
   "execution_count": 17,
   "id": "b9c83b6e",
   "metadata": {},
   "outputs": [
    {
     "name": "stdout",
     "output_type": "stream",
     "text": [
      "run ------> run\n",
      "runner ------> runner\n",
      "ran ------> ran\n",
      "runs ------> run\n",
      "easily ------> easili\n",
      "fairly ------> fair\n",
      "fairness ------> fair\n"
     ]
    }
   ],
   "source": [
    "for word in words:\n",
    "    print(word + ' ------> ' + s_stemmer.stem(word))"
   ]
  },
  {
   "cell_type": "code",
   "execution_count": 18,
   "id": "743d7511",
   "metadata": {},
   "outputs": [],
   "source": [
    "words = ['generous','generation','generously','generate','generic']"
   ]
  },
  {
   "cell_type": "code",
   "execution_count": 19,
   "id": "1c612927",
   "metadata": {},
   "outputs": [
    {
     "name": "stdout",
     "output_type": "stream",
     "text": [
      "generous ------> generous\n",
      "generation ------> generat\n",
      "generously ------> generous\n",
      "generate ------> generat\n",
      "generic ------> generic\n"
     ]
    }
   ],
   "source": [
    "for word in words:\n",
    "    print(word + ' ------> ' + s_stemmer.stem(word))"
   ]
  },
  {
   "cell_type": "code",
   "execution_count": null,
   "id": "4337643d",
   "metadata": {},
   "outputs": [],
   "source": []
  }
 ],
 "metadata": {
  "kernelspec": {
   "display_name": "Python 3 (ipykernel)",
   "language": "python",
   "name": "python3"
  },
  "language_info": {
   "codemirror_mode": {
    "name": "ipython",
    "version": 3
   },
   "file_extension": ".py",
   "mimetype": "text/x-python",
   "name": "python",
   "nbconvert_exporter": "python",
   "pygments_lexer": "ipython3",
   "version": "3.7.16"
  }
 },
 "nbformat": 4,
 "nbformat_minor": 5
}
