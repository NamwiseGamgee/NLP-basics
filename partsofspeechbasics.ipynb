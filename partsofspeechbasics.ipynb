{
 "cells": [
  {
   "cell_type": "code",
   "execution_count": 1,
   "id": "3588446d",
   "metadata": {},
   "outputs": [],
   "source": [
    "import spacy"
   ]
  },
  {
   "cell_type": "code",
   "execution_count": 2,
   "id": "1601a81f",
   "metadata": {},
   "outputs": [],
   "source": [
    "nlp = spacy.load('en_core_web_sm')"
   ]
  },
  {
   "cell_type": "code",
   "execution_count": 12,
   "id": "5bc3ab0c",
   "metadata": {},
   "outputs": [],
   "source": [
    "doc = nlp(u\"The quick brown fox jumped over the lazy dog's back.\")"
   ]
  },
  {
   "cell_type": "code",
   "execution_count": 13,
   "id": "9e0ac767",
   "metadata": {},
   "outputs": [
    {
     "name": "stdout",
     "output_type": "stream",
     "text": [
      "The quick brown fox jumped over the lazy dog's back.\n"
     ]
    }
   ],
   "source": [
    "print(doc.text)"
   ]
  },
  {
   "cell_type": "code",
   "execution_count": 14,
   "id": "dfaf415b",
   "metadata": {},
   "outputs": [
    {
     "name": "stdout",
     "output_type": "stream",
     "text": [
      "The quick brown fox jumped over the lazy dog's back.\n"
     ]
    }
   ],
   "source": [
    "print(doc)"
   ]
  },
  {
   "cell_type": "code",
   "execution_count": 15,
   "id": "9baf6d23",
   "metadata": {},
   "outputs": [
    {
     "name": "stdout",
     "output_type": "stream",
     "text": [
      "VBD\n"
     ]
    }
   ],
   "source": [
    "#fine grain tag (gives more info/context than a pos_ tag\n",
    "print(doc[4].tag_)"
   ]
  },
  {
   "cell_type": "code",
   "execution_count": 16,
   "id": "e433dde4",
   "metadata": {},
   "outputs": [
    {
     "name": "stdout",
     "output_type": "stream",
     "text": [
      "VERB\n"
     ]
    }
   ],
   "source": [
    "#to see what fine grain tag VBD means..\n",
    "#so its a verb with VBD.. if we look at the Coarse-grained Part-of-speech Tags table\n",
    "#we can see this means a past tense verb\n",
    "print(doc[4].pos_)"
   ]
  },
  {
   "cell_type": "code",
   "execution_count": 19,
   "id": "f7b7e85c",
   "metadata": {},
   "outputs": [
    {
     "name": "stdout",
     "output_type": "stream",
     "text": [
      "The        DET        DT         determiner\n",
      "quick      ADJ        JJ         adjective\n",
      "brown      ADJ        JJ         adjective\n",
      "fox        NOUN       NN         noun, singular or mass\n",
      "jumped     VERB       VBD        verb, past tense\n",
      "over       ADP        IN         conjunction, subordinating or preposition\n",
      "the        DET        DT         determiner\n",
      "lazy       ADJ        JJ         adjective\n",
      "dog        NOUN       NN         noun, singular or mass\n",
      "'s         PART       POS        possessive ending\n",
      "back       NOUN       NN         noun, singular or mass\n",
      ".          PUNCT      .          punctuation mark, sentence closer\n"
     ]
    }
   ],
   "source": [
    "for token in doc:\n",
    "    print(f\"{token.text:{10}} {token.pos_:{10}} {token.tag_:{10}} {spacy.explain(token.tag_)}\")"
   ]
  },
  {
   "cell_type": "code",
   "execution_count": 20,
   "id": "dec1149f",
   "metadata": {},
   "outputs": [],
   "source": [
    "doc2 = nlp(u\"I read books on NLP.\")"
   ]
  },
  {
   "cell_type": "code",
   "execution_count": 23,
   "id": "f426fd1f",
   "metadata": {},
   "outputs": [],
   "source": [
    "word = doc2[1]"
   ]
  },
  {
   "cell_type": "code",
   "execution_count": 24,
   "id": "46133cac",
   "metadata": {},
   "outputs": [
    {
     "data": {
      "text/plain": [
       "'read'"
      ]
     },
     "execution_count": 24,
     "metadata": {},
     "output_type": "execute_result"
    }
   ],
   "source": [
    "word.text"
   ]
  },
  {
   "cell_type": "code",
   "execution_count": 25,
   "id": "a5b4fb0e",
   "metadata": {},
   "outputs": [
    {
     "name": "stdout",
     "output_type": "stream",
     "text": [
      "read       VERB       VBP        verb, non-3rd person singular present\n"
     ]
    }
   ],
   "source": [
    "token = word\n",
    "print(f\"{token.text:{10}} {token.pos_:{10}} {token.tag_:{10}} {spacy.explain(token.tag_)}\")"
   ]
  },
  {
   "cell_type": "code",
   "execution_count": 26,
   "id": "e64c8127",
   "metadata": {},
   "outputs": [],
   "source": [
    "doc3 = nlp(u\"I read a book on NLP.\")"
   ]
  },
  {
   "cell_type": "code",
   "execution_count": 27,
   "id": "fb8d1151",
   "metadata": {},
   "outputs": [
    {
     "name": "stdout",
     "output_type": "stream",
     "text": [
      "read       VERB       VBD        verb, past tense\n"
     ]
    }
   ],
   "source": [
    "word = doc3[1]\n",
    "token = word\n",
    "print(f\"{token.text:{10}} {token.pos_:{10}} {token.tag_:{10}} {spacy.explain(token.tag_)}\")"
   ]
  },
  {
   "cell_type": "code",
   "execution_count": 28,
   "id": "1ee05416",
   "metadata": {},
   "outputs": [],
   "source": [
    "#how to count pos tags .. how many pos do we have in a document\n",
    "doc = nlp(\"The quick brown fox jumped over the lazy dog's back.\")"
   ]
  },
  {
   "cell_type": "code",
   "execution_count": 31,
   "id": "938de719",
   "metadata": {},
   "outputs": [],
   "source": [
    "#returns a dictionary of how many times what pos tags appeared\n",
    "pos_count = doc.count_by(spacy.attrs.POS)"
   ]
  },
  {
   "cell_type": "code",
   "execution_count": 32,
   "id": "7ab57359",
   "metadata": {},
   "outputs": [
    {
     "data": {
      "text/plain": [
       "{96: 1, 83: 3, 99: 1, 84: 1, 89: 2, 91: 3, 93: 1}"
      ]
     },
     "execution_count": 32,
     "metadata": {},
     "output_type": "execute_result"
    }
   ],
   "source": [
    "pos_count"
   ]
  },
  {
   "cell_type": "code",
   "execution_count": 34,
   "id": "5c702eb2",
   "metadata": {},
   "outputs": [
    {
     "data": {
      "text/plain": [
       "'ADJ'"
      ]
     },
     "execution_count": 34,
     "metadata": {},
     "output_type": "execute_result"
    }
   ],
   "source": [
    "#to get the name..\n",
    "#from this we can tell that there are 3 adjectives in the sentence\n",
    "doc.vocab[83].text"
   ]
  },
  {
   "cell_type": "code",
   "execution_count": 46,
   "id": "0a06cee9",
   "metadata": {},
   "outputs": [
    {
     "data": {
      "text/plain": [
       "dict_items([(96, 1), (83, 3), (99, 1), (84, 1), (89, 2), (91, 3), (93, 1)])"
      ]
     },
     "execution_count": 46,
     "metadata": {},
     "output_type": "execute_result"
    }
   ],
   "source": [
    "pos_count.items()"
   ]
  },
  {
   "cell_type": "code",
   "execution_count": 50,
   "id": "a4f3b6ae",
   "metadata": {},
   "outputs": [
    {
     "name": "stdout",
     "output_type": "stream",
     "text": [
      "83. ADJ        3\n",
      "84. ADP        1\n",
      "89. DET        2\n",
      "91. NOUN       3\n",
      "93. PART       1\n",
      "96. PUNCT      1\n",
      "99. VERB       1\n"
     ]
    }
   ],
   "source": [
    "#making a frequency list\n",
    "for k,v in sorted(pos_count.items()):\n",
    "    print(f\"{k}. {doc.vocab[k].text:{10}} {v}\")\n",
    "    "
   ]
  },
  {
   "cell_type": "code",
   "execution_count": 54,
   "id": "b6984504",
   "metadata": {},
   "outputs": [
    {
     "name": "stdout",
     "output_type": "stream",
     "text": [
      "74                       . POS   1\n",
      "1292078113972184607      . IN    1\n",
      "10554686591937588953     . JJ    3\n",
      "12646065887601541794     . .     1\n",
      "15267657372422890137     . DT    2\n",
      "15308085513773655218     . NN    3\n",
      "17109001835818727656     . VBD   1\n"
     ]
    }
   ],
   "source": [
    "#we can also list the TAG frequency\n",
    "\n",
    "TAG_count = doc.count_by(spacy.attrs.TAG)\n",
    "for k,v in sorted(TAG_count.items()):\n",
    "    print(f\"{k:<{25}}. {doc.vocab[k].text:{5}} {v}\")"
   ]
  },
  {
   "cell_type": "code",
   "execution_count": 55,
   "id": "08d13dd6",
   "metadata": {},
   "outputs": [
    {
     "name": "stdout",
     "output_type": "stream",
     "text": [
      "399                      . amod  3\n",
      "412                      . det   2\n",
      "426                      . nsubj 1\n",
      "436                      . pobj  1\n",
      "437                      . poss  1\n",
      "440                      . prep  1\n",
      "442                      . punct 1\n",
      "8110129090154140942      . case  1\n",
      "8206900633647566924      . ROOT  1\n"
     ]
    }
   ],
   "source": [
    "DEP_count = doc.count_by(spacy.attrs.DEP)\n",
    "for k,v in sorted(DEP_count.items()):\n",
    "    print(f\"{k:<{25}}. {doc.vocab[k].text:{5}} {v}\")"
   ]
  },
  {
   "cell_type": "code",
   "execution_count": null,
   "id": "d164668f",
   "metadata": {},
   "outputs": [],
   "source": []
  }
 ],
 "metadata": {
  "kernelspec": {
   "display_name": "Python 3 (ipykernel)",
   "language": "python",
   "name": "python3"
  },
  "language_info": {
   "codemirror_mode": {
    "name": "ipython",
    "version": 3
   },
   "file_extension": ".py",
   "mimetype": "text/x-python",
   "name": "python",
   "nbconvert_exporter": "python",
   "pygments_lexer": "ipython3",
   "version": "3.7.16"
  }
 },
 "nbformat": 4,
 "nbformat_minor": 5
}
