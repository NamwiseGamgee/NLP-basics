{
 "cells": [
  {
   "cell_type": "code",
   "execution_count": 4,
   "id": "7f957746",
   "metadata": {},
   "outputs": [],
   "source": [
    "import spacy"
   ]
  },
  {
   "cell_type": "code",
   "execution_count": 5,
   "id": "386bad71",
   "metadata": {},
   "outputs": [],
   "source": [
    "nlp = spacy.load('en_core_web_sm')"
   ]
  },
  {
   "cell_type": "code",
   "execution_count": 3,
   "id": "7141636e",
   "metadata": {},
   "outputs": [],
   "source": [
    "#making a fucntion to show basic entity information"
   ]
  },
  {
   "cell_type": "code",
   "execution_count": 7,
   "id": "6b2c5eec",
   "metadata": {},
   "outputs": [],
   "source": [
    "def show_ents(doc):\n",
    "    if doc.ents:\n",
    "        for ent in doc.ents:\n",
    "            print(ent.text + ' - '+ ent.label_ + ' - '+str(spacy.explain(ent.label_)))\n",
    "    else:\n",
    "        print(\"No entities found! hahaha nothing here is famous buddy.\")"
   ]
  },
  {
   "cell_type": "code",
   "execution_count": 8,
   "id": "830b89b7",
   "metadata": {},
   "outputs": [],
   "source": [
    "doc1 = nlp(u\"I am a real authentic explorer. Listen, I may not have all the riches in the world but what I do have is a massive heart.\")"
   ]
  },
  {
   "cell_type": "code",
   "execution_count": 9,
   "id": "a914c29f",
   "metadata": {},
   "outputs": [
    {
     "name": "stdout",
     "output_type": "stream",
     "text": [
      "No entities found! hahaha nothing here is famous buddy.\n"
     ]
    }
   ],
   "source": [
    "show_ents(doc1)"
   ]
  },
  {
   "cell_type": "code",
   "execution_count": 10,
   "id": "0878732e",
   "metadata": {},
   "outputs": [],
   "source": [
    "doc = nlp(u\"May I go to Washington, DC next May to see the Washington Monument?\")"
   ]
  },
  {
   "cell_type": "code",
   "execution_count": 11,
   "id": "922b644a",
   "metadata": {},
   "outputs": [
    {
     "name": "stdout",
     "output_type": "stream",
     "text": [
      "Washington, DC - GPE - Countries, cities, states\n",
      "next May - DATE - Absolute or relative dates or periods\n",
      "the Washington Monument - ORG - Companies, agencies, institutions, etc.\n"
     ]
    }
   ],
   "source": [
    "show_ents(doc)"
   ]
  },
  {
   "cell_type": "code",
   "execution_count": 12,
   "id": "e0f9cd64",
   "metadata": {},
   "outputs": [],
   "source": [
    "doc = nlp(u\"Can I please have 500 dollars of Microsoft stocks?\")"
   ]
  },
  {
   "cell_type": "code",
   "execution_count": 13,
   "id": "ed88bd35",
   "metadata": {},
   "outputs": [
    {
     "name": "stdout",
     "output_type": "stream",
     "text": [
      "500 dollars - MONEY - Monetary values, including unit\n",
      "Microsoft - ORG - Companies, agencies, institutions, etc.\n"
     ]
    }
   ],
   "source": [
    "show_ents(doc)"
   ]
  },
  {
   "cell_type": "code",
   "execution_count": 14,
   "id": "c8f8f46c",
   "metadata": {},
   "outputs": [
    {
     "name": "stdout",
     "output_type": "stream",
     "text": [
      "Chipotle - ORG - Companies, agencies, institutions, etc.\n",
      "Burgers - ORG - Companies, agencies, institutions, etc.\n",
      "this whole month - DATE - Absolute or relative dates or periods\n"
     ]
    }
   ],
   "source": [
    "doc = nlp(u\"I am really hungry. Today I might order Chipotle and get some Burgers. Although I ate pizza yesterday, I am willing to consume more fast-food this whole month.\")\n",
    "show_ents(doc)"
   ]
  },
  {
   "cell_type": "code",
   "execution_count": 15,
   "id": "e705f2e5",
   "metadata": {},
   "outputs": [],
   "source": [
    "#add own named entity as a span"
   ]
  },
  {
   "cell_type": "code",
   "execution_count": 16,
   "id": "969c64b0",
   "metadata": {},
   "outputs": [],
   "source": [
    "doc = nlp(u\"Tesla to build a U.K. factory for $6 million.\")"
   ]
  },
  {
   "cell_type": "code",
   "execution_count": 17,
   "id": "8445b43b",
   "metadata": {},
   "outputs": [
    {
     "name": "stdout",
     "output_type": "stream",
     "text": [
      "U.K. - GPE - Countries, cities, states\n",
      "$6 million - MONEY - Monetary values, including unit\n"
     ]
    }
   ],
   "source": [
    "show_ents(doc)"
   ]
  },
  {
   "cell_type": "code",
   "execution_count": 18,
   "id": "db9d020d",
   "metadata": {},
   "outputs": [],
   "source": [
    "#here it does not recognize Tesla as an ORG. So we will add it"
   ]
  },
  {
   "cell_type": "code",
   "execution_count": 19,
   "id": "fa97bb82",
   "metadata": {},
   "outputs": [],
   "source": [
    "from spacy.tokens import Span"
   ]
  },
  {
   "cell_type": "code",
   "execution_count": 20,
   "id": "80bb02e0",
   "metadata": {},
   "outputs": [],
   "source": [
    "ORG = doc.vocab.strings[u\"ORG\"]"
   ]
  },
  {
   "cell_type": "code",
   "execution_count": 21,
   "id": "ba79005d",
   "metadata": {},
   "outputs": [
    {
     "data": {
      "text/plain": [
       "381"
      ]
     },
     "execution_count": 21,
     "metadata": {},
     "output_type": "execute_result"
    }
   ],
   "source": [
    "ORG"
   ]
  },
  {
   "cell_type": "code",
   "execution_count": 22,
   "id": "b3a0cfec",
   "metadata": {},
   "outputs": [],
   "source": [
    "new_ent = Span(doc, 0, 1, label=ORG)"
   ]
  },
  {
   "cell_type": "code",
   "execution_count": 23,
   "id": "1ec06fc7",
   "metadata": {},
   "outputs": [],
   "source": [
    "doc.ents = list(doc.ents) + [new_ent]"
   ]
  },
  {
   "cell_type": "code",
   "execution_count": 24,
   "id": "984857b9",
   "metadata": {},
   "outputs": [
    {
     "name": "stdout",
     "output_type": "stream",
     "text": [
      "Tesla - ORG - Companies, agencies, institutions, etc.\n",
      "U.K. - GPE - Countries, cities, states\n",
      "$6 million - MONEY - Monetary values, including unit\n"
     ]
    }
   ],
   "source": [
    "show_ents(doc)"
   ]
  },
  {
   "cell_type": "code",
   "execution_count": 25,
   "id": "3e1ef0fb",
   "metadata": {},
   "outputs": [],
   "source": [
    "#now it recognizes Tesla as an ORG which we added"
   ]
  },
  {
   "cell_type": "code",
   "execution_count": 26,
   "id": "f5363af5",
   "metadata": {},
   "outputs": [],
   "source": [
    "docx = nlp(u\"I bought a Tesla model 3.\")"
   ]
  },
  {
   "cell_type": "code",
   "execution_count": 27,
   "id": "aeeee86b",
   "metadata": {},
   "outputs": [
    {
     "name": "stdout",
     "output_type": "stream",
     "text": [
      "Tesla - PRODUCT - Objects, vehicles, foods, etc. (not services)\n"
     ]
    }
   ],
   "source": [
    "show_ents(docx)"
   ]
  },
  {
   "cell_type": "code",
   "execution_count": 28,
   "id": "4b2da723",
   "metadata": {},
   "outputs": [
    {
     "name": "stdout",
     "output_type": "stream",
     "text": [
      "Tesla - PRODUCT - Objects, vehicles, foods, etc. (not services)\n",
      "Tesla - PRODUCT - Objects, vehicles, foods, etc. (not services)\n"
     ]
    }
   ],
   "source": [
    "docx = nlp(u\"Me and my friends went on a ride. It was wonderful enjoyable ride. We had a Tesla. Btw, Tesla is investing money into apple. Did you hear that?\")\n",
    "show_ents(docx)"
   ]
  },
  {
   "cell_type": "code",
   "execution_count": 2,
   "id": "2b17b177",
   "metadata": {},
   "outputs": [],
   "source": [
    "#add multiple named entity. For example we want to add vaccume cleaner and vaccume-cleaner"
   ]
  },
  {
   "cell_type": "code",
   "execution_count": 43,
   "id": "e116d21a",
   "metadata": {},
   "outputs": [],
   "source": [
    "doc = nlp(u\"Our company created a brand new vaccume cleaner.\"\n",
    "         u\"This new vaccume-cleaner is the best in show.\")"
   ]
  },
  {
   "cell_type": "code",
   "execution_count": 44,
   "id": "1287a503",
   "metadata": {},
   "outputs": [
    {
     "name": "stdout",
     "output_type": "stream",
     "text": [
      "No entities found! hahaha nothing here is famous buddy.\n"
     ]
    }
   ],
   "source": [
    "show_ents(doc)"
   ]
  },
  {
   "cell_type": "code",
   "execution_count": 45,
   "id": "9cdb9321",
   "metadata": {},
   "outputs": [],
   "source": [
    "from spacy.matcher import PhraseMatcher"
   ]
  },
  {
   "cell_type": "code",
   "execution_count": 46,
   "id": "7a202705",
   "metadata": {},
   "outputs": [],
   "source": [
    "matcher = PhraseMatcher(nlp.vocab)"
   ]
  },
  {
   "cell_type": "code",
   "execution_count": 47,
   "id": "248a857b",
   "metadata": {},
   "outputs": [],
   "source": [
    "phrase_list = ['vaccume cleaner','vaccume-cleaner']"
   ]
  },
  {
   "cell_type": "code",
   "execution_count": 48,
   "id": "22469569",
   "metadata": {},
   "outputs": [],
   "source": [
    "phrase_patterns = [nlp(text) for text in phrase_list]"
   ]
  },
  {
   "cell_type": "code",
   "execution_count": 49,
   "id": "4531224f",
   "metadata": {},
   "outputs": [
    {
     "name": "stdout",
     "output_type": "stream",
     "text": [
      "[vaccume cleaner, vaccume-cleaner]\n"
     ]
    },
    {
     "data": {
      "text/plain": [
       "vaccume-cleaner"
      ]
     },
     "execution_count": 49,
     "metadata": {},
     "output_type": "execute_result"
    }
   ],
   "source": [
    "#checking for clarity\n",
    "print(phrase_patterns)\n",
    "phrase_patterns[1]"
   ]
  },
  {
   "cell_type": "code",
   "execution_count": 50,
   "id": "8ef28bc2",
   "metadata": {},
   "outputs": [],
   "source": [
    "matcher.add('newproduct', None, *phrase_patterns)"
   ]
  },
  {
   "cell_type": "code",
   "execution_count": 51,
   "id": "688eb48a",
   "metadata": {},
   "outputs": [],
   "source": [
    "found_matches = matcher(doc)"
   ]
  },
  {
   "cell_type": "code",
   "execution_count": 52,
   "id": "52419826",
   "metadata": {},
   "outputs": [
    {
     "data": {
      "text/plain": [
       "[(2689272359382549672, 6, 8), (2689272359382549672, 11, 14)]"
      ]
     },
     "execution_count": 52,
     "metadata": {},
     "output_type": "execute_result"
    }
   ],
   "source": [
    "found_matches"
   ]
  },
  {
   "cell_type": "code",
   "execution_count": 53,
   "id": "e5b0605c",
   "metadata": {},
   "outputs": [],
   "source": [
    "from spacy.tokens import Span"
   ]
  },
  {
   "cell_type": "code",
   "execution_count": 54,
   "id": "bd91dd8a",
   "metadata": {},
   "outputs": [],
   "source": [
    "PROD = doc.vocab.strings[u\"PRODUCT\"]"
   ]
  },
  {
   "cell_type": "code",
   "execution_count": 55,
   "id": "935fa049",
   "metadata": {},
   "outputs": [],
   "source": [
    "new_ents = [Span(doc, match[1],match[2], label=PROD) for match in found_matches]"
   ]
  },
  {
   "cell_type": "code",
   "execution_count": 56,
   "id": "c1e9a309",
   "metadata": {},
   "outputs": [],
   "source": [
    "doc.ents = list(doc.ents) + new_ents"
   ]
  },
  {
   "cell_type": "code",
   "execution_count": 57,
   "id": "5750f50d",
   "metadata": {},
   "outputs": [
    {
     "name": "stdout",
     "output_type": "stream",
     "text": [
      "vaccume cleaner - PRODUCT - Objects, vehicles, foods, etc. (not services)\n",
      "vaccume-cleaner - PRODUCT - Objects, vehicles, foods, etc. (not services)\n"
     ]
    }
   ],
   "source": [
    "show_ents(doc)"
   ]
  },
  {
   "cell_type": "code",
   "execution_count": 60,
   "id": "3d393dff",
   "metadata": {},
   "outputs": [],
   "source": [
    "doc = nlp(u\"Originally I paid $29.95 for this car toy, but now it is marked down by 10 dollars. I bought it from Panama\")"
   ]
  },
  {
   "cell_type": "code",
   "execution_count": 63,
   "id": "57d8d3ff",
   "metadata": {},
   "outputs": [
    {
     "data": {
      "text/plain": [
       "2"
      ]
     },
     "execution_count": 63,
     "metadata": {},
     "output_type": "execute_result"
    }
   ],
   "source": [
    "#checking how many of one entity was there in a doc\n",
    "len([ent for ent in doc.ents if ent.label_ == \"MONEY\"])"
   ]
  },
  {
   "cell_type": "code",
   "execution_count": null,
   "id": "ab20d9ad",
   "metadata": {},
   "outputs": [],
   "source": []
  },
  {
   "cell_type": "code",
   "execution_count": null,
   "id": "24f435dc",
   "metadata": {},
   "outputs": [],
   "source": []
  }
 ],
 "metadata": {
  "kernelspec": {
   "display_name": "Python 3 (ipykernel)",
   "language": "python",
   "name": "python3"
  },
  "language_info": {
   "codemirror_mode": {
    "name": "ipython",
    "version": 3
   },
   "file_extension": ".py",
   "mimetype": "text/x-python",
   "name": "python",
   "nbconvert_exporter": "python",
   "pygments_lexer": "ipython3",
   "version": "3.7.16"
  }
 },
 "nbformat": 4,
 "nbformat_minor": 5
}
