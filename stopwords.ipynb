{
 "cells": [
  {
   "cell_type": "code",
   "execution_count": 1,
   "id": "50b61217",
   "metadata": {},
   "outputs": [],
   "source": [
    "import spacy"
   ]
  },
  {
   "cell_type": "code",
   "execution_count": 3,
   "id": "4ef65615",
   "metadata": {},
   "outputs": [],
   "source": [
    "nlp = spacy.load('en_core_web_sm')"
   ]
  },
  {
   "cell_type": "code",
   "execution_count": 5,
   "id": "eed2125f",
   "metadata": {},
   "outputs": [
    {
     "name": "stdout",
     "output_type": "stream",
     "text": [
      "{'put', 'just', 'before', 'does', 'take', 'anything', 'any', 'few', 'elsewhere', 'only', 'they', 'have', 'itself', 'still', 'whoever', 'without', 'once', 'your', 'becoming', 'them', 'nine', 'eight', 'though', 'and', 'go', 'hundred', 'sometime', 'front', 'herself', 'would', 'besides', 'wherever', 'hereby', 'that', 'whose', 'otherwise', 'with', 'whether', 'per', 'twelve', 'across', 'doing', 'even', 'part', 'ourselves', 'so', 'whereby', 'above', 'alone', 'in', 'neither', 'seeming', 'via', 'whereupon', 'call', 'empty', 'fifteen', 'same', 'she', 'six', 'us', 'might', 'former', 'thru', 'really', 'seemed', 'various', 'although', 'another', 'indeed', 'about', 'please', 'i', 'anywhere', 'now', 'regarding', 'yours', 'our', 'after', 'several', 'afterwards', 'meanwhile', 'myself', 'except', 'many', 'between', 'ours', 'sometimes', 'nothing', 'thereafter', 'upon', 'were', 'be', 'back', 'too', 'but', 'hers', 'hence', 'will', 'down', 'formerly', 'wherein', 'become', 'it', 'all', 'had', 'always', 'is', 'whom', 'herein', 'when', 'see', 'along', 'everyone', 'therefore', 'whatever', 'twenty', 'yet', 'thereupon', 'under', 'side', 'well', 'latterly', 'never', 'sixty', 'he', 'than', 'as', 'cannot', 'get', 'became', 'to', 'where', 'yourself', 'keep', 'more', 'hereafter', 'those', 'nevertheless', 'first', 'for', 'almost', 'enough', 'make', 'full', 'latter', 'mine', 'made', 'because', 'everywhere', 'being', 'onto', 'one', 're', 'her', 'three', 'eleven', 'do', 'me', 'using', 'within', 'seems', 'you', 'an', 'further', 'him', 'either', 'top', 'two', 'we', 'toward', 'then', 'below', 'other', 'beside', 'every', 'must', 'over', 'ten', 'again', 'against', 'say', 'seem', 'unless', 'no', 'thereby', 'until', 'also', 'whole', 'nowhere', 'this', 'anyway', 'show', 'of', 'up', 'nobody', 'rather', 'which', 'most', 'off', 'from', 'becomes', 'amount', 'did', 'fifty', 'therein', 'at', 'ever', 'throughout', 'five', 'some', 'name', 'my', 'together', 'move', 'these', 'amongst', 'much', 'among', 'beforehand', 'was', 'been', 'anyhow', 'nor', 'something', 'quite', 'yourselves', 'thence', 'through', 'namely', 'towards', 'already', 'has', 'own', 'due', 'are', 'serious', 'last', 'if', 'their', 'by', 'out', 'such', 'moreover', 'thus', 'whither', 'on', 'else', 'third', 'here', 'give', 'somehow', 'themselves', 'there', 'a', 'four', 'its', 'what', 'ca', 'could', 'less', 'noone', 'forty', 'others', 'bottom', 'however', 'into', 'someone', 'during', 'around', 'how', 'who', 'each', 'hereupon', 'may', 'very', 'both', 'least', 'why', 'should', 'whereas', 'while', 'whence', 'everything', 'perhaps', 'often', 'his', 'or', 'himself', 'mostly', 'next', 'since', 'behind', 'can', 'done', 'whereafter', 'used', 'not', 'am', 'the', 'anyone', 'whenever', 'beyond', 'none', 'somewhere'}\n"
     ]
    }
   ],
   "source": [
    "#all the common stopwords that are built into spacy\n",
    "print(nlp.Defaults.stop_words)"
   ]
  },
  {
   "cell_type": "code",
   "execution_count": 6,
   "id": "9de06e6d",
   "metadata": {},
   "outputs": [
    {
     "data": {
      "text/plain": [
       "305"
      ]
     },
     "execution_count": 6,
     "metadata": {},
     "output_type": "execute_result"
    }
   ],
   "source": [
    "len(nlp.Defaults.stop_words)"
   ]
  },
  {
   "cell_type": "code",
   "execution_count": 10,
   "id": "5b3f6fbb",
   "metadata": {},
   "outputs": [
    {
     "data": {
      "text/plain": [
       "False"
      ]
     },
     "execution_count": 10,
     "metadata": {},
     "output_type": "execute_result"
    }
   ],
   "source": [
    "#we can check if a word is a stop word by calling the nlp.vocab[word].is_stop\n",
    "nlp.vocab['mystery'].is_stop"
   ]
  },
  {
   "cell_type": "code",
   "execution_count": 11,
   "id": "544bf7cb",
   "metadata": {},
   "outputs": [],
   "source": [
    "#we can also add a stopword for our own dataset. 1/add it 2/set .is_stop=True\n",
    "nlp.Defaults.stop_words.add('btw')"
   ]
  },
  {
   "cell_type": "code",
   "execution_count": 12,
   "id": "a3ce5973",
   "metadata": {},
   "outputs": [],
   "source": [
    "nlp.vocab['btw'].is_stop = True"
   ]
  },
  {
   "cell_type": "code",
   "execution_count": 13,
   "id": "99429135",
   "metadata": {},
   "outputs": [
    {
     "data": {
      "text/plain": [
       "306"
      ]
     },
     "execution_count": 13,
     "metadata": {},
     "output_type": "execute_result"
    }
   ],
   "source": [
    "len(nlp.Defaults.stop_words)"
   ]
  },
  {
   "cell_type": "code",
   "execution_count": 14,
   "id": "04ce694b",
   "metadata": {},
   "outputs": [
    {
     "data": {
      "text/plain": [
       "True"
      ]
     },
     "execution_count": 14,
     "metadata": {},
     "output_type": "execute_result"
    }
   ],
   "source": [
    "nlp.vocab['btw'].is_stop"
   ]
  },
  {
   "cell_type": "code",
   "execution_count": 15,
   "id": "ac8a9f96",
   "metadata": {},
   "outputs": [],
   "source": [
    "#we can also remove a stop word 1/remove it 2/set .is_stop=False\n",
    "nlp.Defaults.stop_words.remove('beyond')"
   ]
  },
  {
   "cell_type": "code",
   "execution_count": 16,
   "id": "b54d5d07",
   "metadata": {},
   "outputs": [],
   "source": [
    "nlp.vocab['beyond'].is_stop = False"
   ]
  },
  {
   "cell_type": "code",
   "execution_count": 17,
   "id": "0fd4a2da",
   "metadata": {},
   "outputs": [
    {
     "data": {
      "text/plain": [
       "305"
      ]
     },
     "execution_count": 17,
     "metadata": {},
     "output_type": "execute_result"
    }
   ],
   "source": [
    "len(nlp.Defaults.stop_words)"
   ]
  },
  {
   "cell_type": "code",
   "execution_count": 18,
   "id": "e928617c",
   "metadata": {},
   "outputs": [
    {
     "data": {
      "text/plain": [
       "False"
      ]
     },
     "execution_count": 18,
     "metadata": {},
     "output_type": "execute_result"
    }
   ],
   "source": [
    "nlp.vocab['beyond'].is_stop"
   ]
  },
  {
   "cell_type": "code",
   "execution_count": null,
   "id": "1937e660",
   "metadata": {},
   "outputs": [],
   "source": []
  }
 ],
 "metadata": {
  "kernelspec": {
   "display_name": "Python 3 (ipykernel)",
   "language": "python",
   "name": "python3"
  },
  "language_info": {
   "codemirror_mode": {
    "name": "ipython",
    "version": 3
   },
   "file_extension": ".py",
   "mimetype": "text/x-python",
   "name": "python",
   "nbconvert_exporter": "python",
   "pygments_lexer": "ipython3",
   "version": "3.7.16"
  }
 },
 "nbformat": 4,
 "nbformat_minor": 5
}
